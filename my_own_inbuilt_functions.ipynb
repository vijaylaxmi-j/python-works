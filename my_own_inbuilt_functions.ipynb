{
  "nbformat": 4,
  "nbformat_minor": 0,
  "metadata": {
    "colab": {
      "name": "my-own-inbuilt-functions.ipynb",
      "provenance": [],
      "collapsed_sections": [],
      "include_colab_link": true
    },
    "kernelspec": {
      "name": "python3",
      "display_name": "Python 3"
    }
  },
  "cells": [
    {
      "cell_type": "markdown",
      "metadata": {
        "id": "view-in-github",
        "colab_type": "text"
      },
      "source": [
        "<a href=\"https://colab.research.google.com/github/vijaylaxmi-j/python-works/blob/master/my_own_inbuilt_functions.ipynb\" target=\"_parent\"><img src=\"https://colab.research.google.com/assets/colab-badge.svg\" alt=\"Open In Colab\"/></a>"
      ]
    },
    {
      "cell_type": "code",
      "metadata": {
        "id": "4mRCKqygoOma",
        "colab_type": "code",
        "colab": {}
      },
      "source": [
        "1.1 Write a Python Program to implement your own myreduce() function which works exactly\n",
        "like Python's built-in function reduce()"
      ],
      "execution_count": null,
      "outputs": []
    },
    {
      "cell_type": "code",
      "metadata": {
        "id": "29--fgnBoWX0",
        "colab_type": "code",
        "colab": {
          "base_uri": "https://localhost:8080/",
          "height": 34
        },
        "outputId": "4c6e2896-325a-4706-8456-7eadf7faee83"
      },
      "source": [
        "def myreduce(func,iterab):\n",
        "    lst=list(iterab)\n",
        "    try:\n",
        "        if(len(lst) not in (0,1)):\n",
        "            for i in range(len(lst)):\n",
        "                if i < len(lst)-1:\n",
        "                    if i==0:\n",
        "                        d=lst[i]\n",
        "                    output=func(d,lst[i+1])\n",
        "                    d=output\n",
        "            return output\n",
        "                    \n",
        "        elif len(lst)==1 :\n",
        "            output=lst[0]\n",
        "            return output\n",
        "        else:\n",
        "            return \"TypeError: reduce() of empty sequence with no initial value\"\n",
        "       \n",
        "    except Exception as e:\n",
        "        return e\n",
        "    \n",
        "    \n",
        "    \n",
        "\n",
        "\n",
        "lst =[\"a\",\"b\"]\n",
        "out=myreduce(lambda a,b: a+'--'+b,lst)\n",
        "print(out)\n",
        "    \n",
        "    "
      ],
      "execution_count": null,
      "outputs": [
        {
          "output_type": "stream",
          "text": [
            "a--b\n"
          ],
          "name": "stdout"
        }
      ]
    },
    {
      "cell_type": "code",
      "metadata": {
        "id": "seJvqw7DZEZL",
        "colab_type": "code",
        "colab": {
          "base_uri": "https://localhost:8080/",
          "height": 34
        },
        "outputId": "2b43bf82-fd2c-4586-ac3c-0804f215cab4"
      },
      "source": [
        "def myreduce(func,iterab,output =None ):\n",
        "    # lst=list(iterab)\n",
        "    try:\n",
        "        # if(len(lst) not in (0,1)):\n",
        "            for i in iterab:\n",
        "                # if i < len(lst)-1:\n",
        "                    if output is None:\n",
        "                        output=i\n",
        "                    else:    \n",
        "                      output=func(output,i)\n",
        "            return output\n",
        "                    \n",
        "        # elif len(lst)==1 :\n",
        "        #     output=lst[0]\n",
        "        #     return output\n",
        "        # else:\n",
        "        #     return \"TypeError: reduce() of empty sequence with no initial value\"\n",
        "       \n",
        "    except Exception as e:\n",
        "        return e\n",
        "    \n",
        "    \n",
        "    \n",
        "\n",
        "\n",
        "lst =[\"a\"]\n",
        "dict_a = {\"a\": \"a1\", \"b\" : \"b1\"}\n",
        "# set_a = (\"a\", \"b\",\"c\")\n",
        "out=myreduce(lambda a,b: a+'--'+b,dict_a)\n",
        "print(out)"
      ],
      "execution_count": null,
      "outputs": [
        {
          "output_type": "stream",
          "text": [
            "a--b\n"
          ],
          "name": "stdout"
        }
      ]
    },
    {
      "cell_type": "code",
      "metadata": {
        "id": "XSBXbNgkoqz1",
        "colab_type": "code",
        "colab": {}
      },
      "source": [
        "1.2 Write a Python program to implement your own myfilter() function which works exactly\n",
        "like Python's built-in function filter()"
      ],
      "execution_count": null,
      "outputs": []
    },
    {
      "cell_type": "code",
      "metadata": {
        "id": "vnl0Ag6yovS3",
        "colab_type": "code",
        "colab": {
          "base_uri": "https://localhost:8080/",
          "height": 54
        },
        "outputId": "bf5855b9-f3d6-48a0-e636-0582e7bdd97c"
      },
      "source": [
        "def my_filter(func,iterab):\n",
        "    lst=list(iterab)\n",
        "    new_list=list()\n",
        "    new_list=[lst[i] for i in range(len(lst)) if func(lst[i])== True]   \n",
        "            \n",
        "    return new_list\n",
        "\n",
        "\n",
        "lst = range(100)\n",
        "def even_check(num):\n",
        "    if num %2 ==0:\n",
        "        return True\n",
        "Filter=myfilter(even_check,lst)\n",
        "print(Filter)"
      ],
      "execution_count": null,
      "outputs": [
        {
          "output_type": "stream",
          "text": [
            "[0, 2, 4, 6, 8, 10, 12, 14, 16, 18, 20, 22, 24, 26, 28, 30, 32, 34, 36, 38, 40, 42, 44, 46, 48, 50, 52, 54, 56, 58, 60, 62, 64, 66, 68, 70, 72, 74, 76, 78, 80, 82, 84, 86, 88, 90, 92, 94, 96, 98]\n"
          ],
          "name": "stdout"
        }
      ]
    },
    {
      "cell_type": "code",
      "metadata": {
        "id": "YpP4XK2fo5Ll",
        "colab_type": "code",
        "colab": {}
      },
      "source": [
        "2. Implement List comprehensions to produce the following lists.\n",
        "Write List comprehensions to produce the following Lists"
      ],
      "execution_count": null,
      "outputs": []
    },
    {
      "cell_type": "code",
      "metadata": {
        "id": "gWmDCxdYpMAN",
        "colab_type": "code",
        "colab": {
          "base_uri": "https://localhost:8080/",
          "height": 34
        },
        "outputId": "19dc2611-2664-48e8-85cc-ec80a95ddd13"
      },
      "source": [
        "# ['x', 'xx', 'xxx', 'xxxx', 'y', 'yy', 'yyy', 'yyyy', 'z', 'zz', 'zzz', 'zzzz']\n",
        "string='xyz'\n",
        "new_lst1=[ i*(j+1) for i in string for j in range(len(string))]\n",
        "print(new_lst1)"
      ],
      "execution_count": null,
      "outputs": [
        {
          "output_type": "stream",
          "text": [
            "['x', 'xx', 'xxx', 'y', 'yy', 'yyy', 'z', 'zz', 'zzz']\n"
          ],
          "name": "stdout"
        }
      ]
    },
    {
      "cell_type": "code",
      "metadata": {
        "id": "C2mzvPAcpZyQ",
        "colab_type": "code",
        "colab": {
          "base_uri": "https://localhost:8080/",
          "height": 34
        },
        "outputId": "cf9f8572-627c-465c-d50e-8c3b98322f83"
      },
      "source": [
        "# ['x', 'y', 'z', 'xx', 'yy', 'zz', 'xxx', 'yyy', 'zzz', 'xxxx', 'yyyy', 'zzzz']\n",
        "string='xyz'\n",
        "new_lst2=[ i * j for j in range(1,5) for i in string  ]\n",
        "print(new_lst2)"
      ],
      "execution_count": null,
      "outputs": [
        {
          "output_type": "stream",
          "text": [
            "['x', 'y', 'z', 'xx', 'yy', 'zz', 'xxx', 'yyy', 'zzz', 'xxxx', 'yyyy', 'zzzz']\n"
          ],
          "name": "stdout"
        }
      ]
    },
    {
      "cell_type": "code",
      "metadata": {
        "id": "gd7Q0q6epcer",
        "colab_type": "code",
        "colab": {
          "base_uri": "https://localhost:8080/",
          "height": 34
        },
        "outputId": "f0492ec6-b67c-4734-a640-b83b5340cb6b"
      },
      "source": [
        "# [(1, 1), (2, 1), (3, 1), (1, 2), (2, 2), (3, 2), (1, 3), (2, 3), (3, 3)]\n",
        "\n",
        "new_list3=[ (j,i) for i in range(1,4) for j in range(1,4) ]\n",
        "print(new_list3)\n"
      ],
      "execution_count": null,
      "outputs": [
        {
          "output_type": "stream",
          "text": [
            "[(1, 1), (2, 1), (3, 1), (1, 2), (2, 2), (3, 2), (1, 3), (2, 3), (3, 3)]\n"
          ],
          "name": "stdout"
        }
      ]
    },
    {
      "cell_type": "code",
      "metadata": {
        "id": "4noXbCBopf_L",
        "colab_type": "code",
        "colab": {
          "base_uri": "https://localhost:8080/",
          "height": 34
        },
        "outputId": "66d0ae91-e2a7-46bf-f4c1-2a29ca784b1c"
      },
      "source": [
        "# [[2], [3], [4], [3], [4], [5], [4], [5], [6]]\n",
        "new_list4=[ [j] for i in range(2,5) for j in range(i,i+3) ]\n",
        "print(new_list4)"
      ],
      "execution_count": null,
      "outputs": [
        {
          "output_type": "stream",
          "text": [
            "[[2], [3], [4], [3], [4], [5], [4], [5], [6]]\n"
          ],
          "name": "stdout"
        }
      ]
    },
    {
      "cell_type": "code",
      "metadata": {
        "id": "kvMlXlKgpks0",
        "colab_type": "code",
        "colab": {
          "base_uri": "https://localhost:8080/",
          "height": 34
        },
        "outputId": "87e5af9b-0bee-494a-d6f3-c7c276994281"
      },
      "source": [
        "# [[2, 3, 4, 5], [3, 4, 5, 6],[4, 5, 6, 7], [5, 6, 7, 8]]\n",
        "new_list5=[ [j for j in range(i,i+4)] for i in range(2,6) ]\n",
        "print(new_list5)\n"
      ],
      "execution_count": null,
      "outputs": [
        {
          "output_type": "stream",
          "text": [
            "[[2, 3, 4, 5], [3, 4, 5, 6], [4, 5, 6, 7], [5, 6, 7, 8]]\n"
          ],
          "name": "stdout"
        }
      ]
    },
    {
      "cell_type": "code",
      "metadata": {
        "id": "u5sIEiXEpndQ",
        "colab_type": "code",
        "colab": {}
      },
      "source": [
        ""
      ],
      "execution_count": null,
      "outputs": []
    }
  ]
}